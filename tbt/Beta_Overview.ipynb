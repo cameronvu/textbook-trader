{
 "cells": [
  {
   "cell_type": "markdown",
   "id": "9e77d3c7-7b7c-44c9-8ffd-f130560aaaf9",
   "metadata": {},
   "source": [
    "# **Textbook Trader: Project Beta**\n",
    "***Written by Cameron Vu and Ilana Minicoz***"
   ]
  },
  {
   "cell_type": "markdown",
   "id": "fecaa6e0-b582-4fca-bf5b-1dc15207cab5",
   "metadata": {},
   "source": [
    "## What is Textbook Trader?\n",
    "Textbook trader is an application that allows users to create and view textbook listings. "
   ]
  },
  {
   "cell_type": "markdown",
   "id": "dcf5ce26-eec8-4560-ae25-8ae2f6418c2b",
   "metadata": {},
   "source": [
    "## In-depth guide to Textbook Trader:\n",
    "Textbook trader is an application that allows users to create and view textbook listings. The home page (index.html) provides a place for a previously registered user to log in; otherwise, there is an option to register. On the register page (register.html), users are prompted to enter their desired username, password, and other personal information that is stored in our ‘user’ SQL table. Following registration, the user is brought back to the login page and is prompted to login using their new username and password. A message is displayed following both a failed and successful login. If the username and password matches what is stored in the ‘user’ table in our SQL database, then the listing page (listing.html), which shows current textbook listings, is displayed. Users may also create listings by navigating to \"Creating Listings\" on the header. If the user chooses to create a listing, then they are brought to the create page (create.html), where they submit information for their textbook listing, which is then stored in the ‘post’ table of our database. Following a successful textbook listing creation, the user is navigated back to the listing page where they can see their listing as well as remove the listing if they so desire. Another aspect of Textbook Trader includes the option for a user to edit their first name and or/last name after their account creation by navigating to their account detail page on the website header."
   ]
  },
  {
   "cell_type": "markdown",
   "id": "248406ec-ef7a-44f9-b5df-8dad28e25c97",
   "metadata": {},
   "source": [
    "## Launching Textbook Trader on Your Device:\n",
    "1. Unzip the submitted file\n",
    "2. Launch Jupyter Notebook from the directory of the zip\n",
    "3. Open a Jupyter terminal and run the command:         \n",
    "        Mac/Linux machine: **./start-tbt.sh**           \n",
    "        Windows machine: **start-tbt-win.bat**\n",
    "4. Now, navigate to http://127.0.0.1:5000\n",
    "5. To shut the program down, kill the terminal window"
   ]
  },
  {
   "cell_type": "markdown",
   "id": "b2f83c75-66c7-45f1-9493-4b200eb299ef",
   "metadata": {},
   "source": [
    "## How did Textbook Trader improve from the prototype?\n",
    "For our project beta, we: \n",
    "1. merged out mock-up site (previously submitted as ---) into the program we constructed via the Flask tutorial\n",
    "2. edited both the 'user' and 'post' table of our SQL database to reflect the information about the user and the book listing that we wish to store\n",
    "3. constructed HTML pages for the account details page, the \n",
    "4. updated HTML pages using Jinja, the scripting language supported by Flask\n",
    "5. added fields for user registration including first name, last name, and email\n",
    "6. created an option for users to remove their own textbook listings (listings are not available to be removed if the logged-in user does not match the user that created the listing)\n",
    "7. added an update() method to auth.py which allows users to update their first name or last name (these updates are reflected in database and visually in the website header user greeting)"
   ]
  },
  {
   "cell_type": "markdown",
   "id": "14b7c516-3086-489c-a54e-308791f504e0",
   "metadata": {},
   "source": [
    "## Goals for our final project:\n",
    "For our final project, we have goals of implementing a way to claim a textbook that is listed. Claiming a textbook, which would only be allowed if the user that claims the textbook is not the user that posted the listing, would remove the textbook from the listing and allow the lister and claimer to barter. We aim to have this completed within the next two weeks (ideally by April 15th) so we can manage the project before the final due date if we have any difficulties. Similarly, we plan to implement and address ant further feedback we receive in regards to this beta. Here is a general timeline:\n",
    "1. Remove the textbook from the screen after it has been claimed by a user: April 1st-April 8th\n",
    "2. Add the option to claim a textbook, which will connect the textbook to the user most likely by adding another page with their claimed textbooks. This will also include displaying contact information connected with the user who posted the textbook listing, which will enable the users to barter over email or text: April 8th-April 15th "
   ]
  },
  {
   "cell_type": "markdown",
   "id": "5ae8e98b-4566-49ea-a9ce-bf1367882717",
   "metadata": {},
   "source": [
    "## Computer language concepts used:\n",
    "For our beta, we have implemented concepts such as:\n",
    "1. A series of conditional statements are used in our Python files (specifically regarding get and post methods)\n",
    "3. HTML post and get methods in relation to our Python methods in files such as auth.py and listing.py which handle those requests\n",
    "4. Similarly, our Python methods (for example, create() and delete() in listing.py) handle changes that are reflected in our SQL databse\n",
    "5. Although Jinja is a different language than Python, the use of the scripting language in our HTML required us to apply computer language concepts which were already familiar to us and adapt those concepts to Jinja syntax (ex: Jinja uses a series of curly braces and %'s to denote conditionals; however, the statements if and else operate the same as in Python)\n",
    "6. The use of Python's None keyword in order to catch any errors. Conditional statements are based on the use of an error variable, which initially is set to the value None, and will only execute if the value of error is None.\n",
    "7. Our python methods end in return statements, many of which redirect the user to another page. This allows our HTML submit fields to execute accordingly (ex: in the register() method of auth.py, if the method of the input field is post, which means that the user is attempting to register, then the method executes and returns a redirect to the login page so the newly registered user can log in)\n",
    "8. Our return statements also return pages that display objects, which are handled by iteration in Jinja in our HTML pages (ex: listings are displayed on the page by iterating through the post objects and displaying the information held in the post table of our database)\n",
    "9. The importation of a series of modules into our Python files for use including sys, functools, a series of imports specific to the Flask framework, and our own files.\n",
    "10. The use of Python as an object oriented language (ex: in auth.py we create a Blueprint object, specific to Flask, which we call methods upon using object oriented syntax like bp.route() which handles how we navigate through HTML pages)"
   ]
  },
  {
   "cell_type": "markdown",
   "id": "c708b778-0709-4b53-993a-46b568f8d75a",
   "metadata": {},
   "source": [
    "## Challenges we faced in this stage:\n",
    "1. Learning and navigating a new framework (Flask)\n",
    "2. Learning aspects of full-stack web development\n",
    "3. We worked with GitHub for the first time, which presented some challenges with committing, pushing, and pulling our changes so we could collaborate \n",
    "4. Learning to work with Jinja because we were required to familiarize ourselves with a new syntax\n",
    "5. Working with the provided SQL database and altering our Python code to institute changes to our user and post tables\n",
    "6. Merging our mock-up site HTML with the previously existing Flask program that we had from the completed tutorial so we could give our app the desired appearance \n",
    "7. Brushing up on our HTML and styling the web page to look cohesive "
   ]
  },
  {
   "cell_type": "markdown",
   "id": "04fbc3c3-448a-4e79-8f5b-75d463ac9c2c",
   "metadata": {},
   "source": [
    "## What can we not accomplish?\n",
    "In our initial project proposal, we had goals for our project that—after working with the application—we realized aren’t realistic for the timeline or are simply not necessary for our application. However, some of these could surely be implemented with more time. Some of the aspects of our project outline that we are choosing to eliminate are:\n",
    "* The use of a textbook class like we proposed in our prototype due solely to the fact that storing the information in the SQL database simplified our process\n",
    "* Allowing users to upload photos that will be displayed with their listing. We believe that will create another layer of complexity that isn’t necessary for the overall functioning of our application.\n",
    "* Searching and sorting textbooks based on keywords. This may be a feasible concept for us to apply but for our next step in our process, we want to work on connecting the buyer and the seller via their email and other relevant information so they can barter. "
   ]
  },
  {
   "cell_type": "markdown",
   "id": "1c962710-2805-430f-bebe-1d5d158957e6",
   "metadata": {},
   "source": [
    "## Addressing previous feedback:\n",
    "### What would happen if Flask were to become unavailable?\n",
    "If Flask were to become unavailable then we would have to rewrite a significant amount of code. Even then, we used Flask due to the fact that it was very adaptable to our program and our goals for this project. However, the risk of Flask becoming unavailable is low due to it's status as a very popular, will-established Python framework that has been actively developed for over 14 years. \n",
    "### Why is Flask advantageous for us to use?\n",
    "Flask provided us with a tutorial that served as the backbone for this project, ultimately simplifying the process of full-stack web development for us. This was especially advantageous considering our status as new programmers, and it cut down the necessary work significantly, which also allowed us to create a complex app like this in the given time periods. Similarly, Flask includes a built-in SQLite database that was easily adapted to fit our application needs. For development purposes, it also includes a self-contained web server for us to run our application on. \n",
    "### Why should consumers embrace our use of Flask?\n",
    "Because the official deployment of the app would eliminate the need for users to run the shell script and create their own Python environment, users ultimately wouldn’t see our Flask code as it is on the backend. In other words, our web application would be deployed in a hosting environment where consumers would only be interacting with a web browser to access the site; therefore, there would be no need for them to install both Flask and Python. However, to demonstrate our web application, we've grouped everything together so you can run the application and have a run-able, click-through web app where you can also view our Python, SQL, and HTML file code."
   ]
  }
 ],
 "metadata": {
  "kernelspec": {
   "display_name": "Python 3 (ipykernel)",
   "language": "python",
   "name": "python3"
  },
  "language_info": {
   "codemirror_mode": {
    "name": "ipython",
    "version": 3
   },
   "file_extension": ".py",
   "mimetype": "text/x-python",
   "name": "python",
   "nbconvert_exporter": "python",
   "pygments_lexer": "ipython3",
   "version": "3.11.7"
  }
 },
 "nbformat": 4,
 "nbformat_minor": 5
}
