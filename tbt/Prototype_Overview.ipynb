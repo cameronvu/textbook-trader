{
 "cells": [
  {
   "cell_type": "markdown",
   "id": "c8c1f7ba-174d-467e-8046-e3c6077137cf",
   "metadata": {},
   "source": [
    "# **Textbook Trader Prototype**\n",
    "By Cameron Vu and Ilana Minicoz"
   ]
  },
  {
   "cell_type": "markdown",
   "id": "ed0d17b5-cf28-4863-a085-e4c76e051d36",
   "metadata": {},
   "source": [
    "## Our Prototype:\n",
    "This tbt (alternately, Textbook Trader) package was created by following the Flask framework tutorial and will serve as the backbone for our final Python application, which will allow registered users to create book listings and select books for purchase. We have used this part of the project as a learning stage, where we: \n",
    "1. installed Flask\n",
    "2. learned about the framework (ex. how it allows us to work frontend and backend to construct a Python app)\n",
    "3. completed the tutorial in our own Jupyter notebook and applied minimal customizations, such as the changing of filenames or directory names, to fit the construction of Textbook Trader\n",
    "4. created our own basic classes (submitted separately/outside of the tbt package) in which we will use to store textbook objects in our SQLite database built into the Flask framework\n",
    "5. constructed a mock-up html page for generally how we envision the finished application to look (also attached separately outside of the tbt package that this notebook is in)"
   ]
  },
  {
   "cell_type": "markdown",
   "id": "c719706e-d423-43cd-b186-31320b96423c",
   "metadata": {},
   "source": [
    "## Textbook Concepts Used Thus Far:\n",
    "1. **The creation, storage, and import of Python modules**: __init__.py imports our database, listing, and authentication files\n",
    "2. **The creation and usage of Python functions using named/positional parameters**: we create the Flask app using the Flask() function in our __init__.py file, which takes the module name as a positional parameter and the instance_relative_config=True as the named parameter \n",
    "3. **The use of Python as an object oriented language**: we create an instance of the Flask class using python which makes our app\n",
    "4. **Renaming files**: we renamed from default filenames given by Flask tutorial to fit our own application\n",
    "5. **The creation of classes**: this was submitted separately, but further along in our project we will implement a textbook class similar to the version submitted, which will allow us to create textbook objects with specific attributes necessary to display for the textbook listings\n",
    "6. **Conditional statements**: there are many instances of conditional statements provided by the basic Flask framework. For example, the authentication file includes a series of if-else statements in functions that are responsible for determining whether or not to authenticate the user (i.e. was their username and password in our database?). This is a concept that we will keep in our finished program as Textbook Trader will have a login/sign up page. "
   ]
  },
  {
   "cell_type": "markdown",
   "id": "04aae0a3-2156-4569-84d1-95569133d049",
   "metadata": {},
   "source": [
    "## How do you run our prototype?\n",
    "To run our prototype and see what the Flask tutorial has provided for our application thus far, follow these instructions:\n",
    "1. in the directory where the Python project configuration file (pyproject.toml) is, install the project by running the following command: **pip install -e .**\n",
    "2. initialize the database prior to running by issuing the following command: **flask --app tbt init-db**\n",
    "   <br/>*note: this step is only required if starting the application for the first time*\n",
    "4. to run the application, type the following Flask command: **flask --app tbt run**\n",
    "5. then, navigate to the host address, **http://127.0.0.1:5000**\n",
    "6. similarly, in the zip is a mock-up of html files (tbt-html) in which we aspire our program to eventually resemble. Open index.html for a general click-through html prototype.\n",
    "7. finally, in the zip is the TextbookTrader.ipynb file that includes general classes that we plan to use"
   ]
  }
 ],
 "metadata": {
  "kernelspec": {
   "display_name": "Python 3 (ipykernel)",
   "language": "python",
   "name": "python3"
  },
  "language_info": {
   "codemirror_mode": {
    "name": "ipython",
    "version": 3
   },
   "file_extension": ".py",
   "mimetype": "text/x-python",
   "name": "python",
   "nbconvert_exporter": "python",
   "pygments_lexer": "ipython3",
   "version": "3.10.12"
  }
 },
 "nbformat": 4,
 "nbformat_minor": 5
}
