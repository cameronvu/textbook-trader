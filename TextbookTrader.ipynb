{
 "cells": [
  {
   "cell_type": "markdown",
   "id": "f0223f1e-df10-47d5-9447-67eb05e77cca",
   "metadata": {},
   "source": [
    "# Cameron Vu & Ilana Minicozzi\n",
    "# Backend Code for two large components of our idea, a textbook class and school class and a short demo\n",
    "## Textbook class that contains all important information a buyer would want to know about a book"
   ]
  },
  {
   "cell_type": "code",
   "execution_count": 5,
   "id": "abfc23cb-bd66-43d3-b9db-cc0fec6e6a43",
   "metadata": {},
   "outputs": [],
   "source": [
    "class textbook:\n",
    "    '''Class for setting up a listing for a textbook, set methods not provided except for price to change a price'''\n",
    "    def __init__(self, title, author, edition, condition, listPrice, contact):\n",
    "        '''Constructor for the lister to put in all info about book'''\n",
    "        self.title = title\n",
    "        self.edition = edition\n",
    "        self.author = author\n",
    "        self.condition = condition\n",
    "        self.price = listPrice\n",
    "        self.email = contact\n",
    "\n",
    "    def __str__(self):\n",
    "        ''' String method to display the information'''\n",
    "        listing = self.title +\" \"+ self.edition+ \" edition by: \" + self.author + \"\\nCondition: \" + self.condition + \" $\"+ str(self.price)\n",
    "        return listing\n",
    "\n",
    "    def __repr__(self):\n",
    "        listing = self.title +\" \"+ self.edition+ \" edition by: \" + self.author + \"\\nCondition: \" + self.condition + \" $\"+ str(self.price)\n",
    "        return listing\n",
    "    def getTitle(self):\n",
    "        '''Returns the title of textbook element'''\n",
    "        return self.title\n",
    "        \n",
    "    def getPrice(self):\n",
    "        '''Returns price of textbook'''\n",
    "        return self.price\n",
    "        \n",
    "    def setPrice(self, price):\n",
    "        '''Allows for price to be changed'''\n",
    "        self.price = price\n",
    "\n",
    "\n",
    "    "
   ]
  },
  {
   "cell_type": "markdown",
   "id": "e5d161ed-5cb2-4710-95ef-2c6694446d9a",
   "metadata": {},
   "source": [
    "## School class to hold the list of textbooks based on defined school"
   ]
  },
  {
   "cell_type": "code",
   "execution_count": 6,
   "id": "3bb1c7f6-98fa-4b78-834a-548adde4563b",
   "metadata": {},
   "outputs": [],
   "source": [
    "class school:\n",
    "    def __init__(self):\n",
    "        '''Constructor method'''\n",
    "        self.books = []\n",
    "\n",
    "    \n",
    "    def addBook(self, book):\n",
    "        '''Method for adding a new book listing to a school's list'''\n",
    "        self.books.append(book)\n",
    "\n",
    "    def search(self, title):\n",
    "        '''Searches the list of books for a specific title and returns all listings with that title'''\n",
    "        titles = []\n",
    "        for i in range(len(self.books)):\n",
    "            book = self.books[i]\n",
    "            if book.getTitle() == title:\n",
    "                titles.append(book)\n",
    "        if len(titles) == 0:\n",
    "            return \"Sorry, no books with that title are available.\"\n",
    "        else:\n",
    "            return titles\n",
    "\n",
    "    def removeBook(self, book):\n",
    "        '''Removes a listing'''\n",
    "        self.books.remove(book)\n",
    "        \n",
    "    def displayAll(self):\n",
    "        '''Displays all books for sale'''\n",
    "        return self.books\n",
    "  "
   ]
  },
  {
   "cell_type": "markdown",
   "id": "62401b4c-fae8-47bf-81f6-151783c4b5ae",
   "metadata": {},
   "source": [
    "# Demo for back end code before being put into the interface\n",
    "## Textbook Class"
   ]
  },
  {
   "cell_type": "code",
   "execution_count": 8,
   "id": "9e1fc487-462f-433e-b1e5-52c2f146eccd",
   "metadata": {},
   "outputs": [
    {
     "name": "stdout",
     "output_type": "stream",
     "text": [
      "Murach's MySQL 3rd edition by: Joe Murach\n",
      "Condition: Perfect $50.49\n",
      "Book after changing price:  Murach's MySQL 3rd edition by: Joe Murach\n",
      "Condition: Perfect $45.0\n"
     ]
    }
   ],
   "source": [
    "## Creating textbook objects\n",
    "book1 = textbook(\"American History 1492-1877\", \"Thomas S. Kidd\", \"1st\", \"Good\", 34.99, \"joe02@brctc.edu\")\n",
    "book2 = textbook(\"Murach's MySQL\", \"Joe Murach\", \"3rd\", \"Perfect\", 50.49, \"sue01@brctc.edu\")\n",
    "book3 = textbook(\"Human Anatomy & Physiology\", \"Elaine N. Marieb\", \"10th\", \"Poor\", 14.99, \"mark04@brctc.edu\")\n",
    "book4 = textbook(\"Intro to College Math\", \"Nathan Frey\", \"2nd\", \"Fair\", 20.00, \"jane09@brctc.edu\")\n",
    "book5 = textbook(\"Biology\", \"OpenStax\", \"2nd\", \"Perfect\", 45.00, \"phil07@brctc.edu\")\n",
    "print(book2)\n",
    "book2.setPrice(45.00)\n",
    "print(\"Book after changing price: \", book2)"
   ]
  },
  {
   "cell_type": "markdown",
   "id": "61982521-b10d-4b67-9039-eff64f1fd1fb",
   "metadata": {},
   "source": [
    "## Demo for school class and methods"
   ]
  },
  {
   "cell_type": "code",
   "execution_count": 9,
   "id": "139a10a3-464d-4b6d-a5b9-38b299fdf585",
   "metadata": {},
   "outputs": [
    {
     "name": "stdout",
     "output_type": "stream",
     "text": [
      "Searching for American History 1878-Current:\n",
      " Sorry, no books with that title are available.\n",
      "Searching for Biology by OpenStax:\n",
      " [Biology 2nd edition by: OpenStax\n",
      "Condition: Perfect $45.0]\n",
      "Displaying all books for sale:\n",
      " [American History 1492-1877 1st edition by: Thomas S. Kidd\n",
      "Condition: Good $34.99, Murach's MySQL 3rd edition by: Joe Murach\n",
      "Condition: Perfect $45.0, Human Anatomy & Physiology 10th edition by: Elaine N. Marieb\n",
      "Condition: Poor $14.99, Intro to College Math 2nd edition by: Nathan Frey\n",
      "Condition: Fair $20.0, Biology 2nd edition by: OpenStax\n",
      "Condition: Perfect $45.0]\n",
      "Displaying all books for sale:\n",
      " [American History 1492-1877 1st edition by: Thomas S. Kidd\n",
      "Condition: Good $34.99, Murach's MySQL 3rd edition by: Joe Murach\n",
      "Condition: Perfect $45.0, Intro to College Math 2nd edition by: Nathan Frey\n",
      "Condition: Fair $20.0, Biology 2nd edition by: OpenStax\n",
      "Condition: Perfect $45.0]\n"
     ]
    }
   ],
   "source": [
    "brctc = school()\n",
    "brctc.addBook(book1)\n",
    "brctc.addBook(book2)\n",
    "brctc.addBook(book3)\n",
    "brctc.addBook(book4)\n",
    "brctc.addBook(book5)\n",
    "\n",
    "print(\"Searching for American History 1878-Current:\\n\", brctc.search(\"American History 1878-Current\"))\n",
    "print(\"Searching for Biology by OpenStax:\\n\", brctc.search(\"Biology\"))\n",
    "print(\"Displaying all books for sale:\\n\", brctc.displayAll())\n",
    "\n",
    "brctc.removeBook(book3)\n",
    "\n",
    "print(\"Displaying all books for sale:\\n\", brctc.displayAll())\n"
   ]
  },
  {
   "cell_type": "code",
   "execution_count": null,
   "id": "9a131d2d-4c13-4d8d-8910-346b384b3e82",
   "metadata": {},
   "outputs": [],
   "source": []
  }
 ],
 "metadata": {
  "kernelspec": {
   "display_name": "Python 3 (ipykernel)",
   "language": "python",
   "name": "python3"
  },
  "language_info": {
   "codemirror_mode": {
    "name": "ipython",
    "version": 3
   },
   "file_extension": ".py",
   "mimetype": "text/x-python",
   "name": "python",
   "nbconvert_exporter": "python",
   "pygments_lexer": "ipython3",
   "version": "3.11.8"
  }
 },
 "nbformat": 4,
 "nbformat_minor": 5
}
